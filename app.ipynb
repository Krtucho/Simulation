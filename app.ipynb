{
 "cells": [
  {
   "cell_type": "code",
   "execution_count": 15,
   "metadata": {},
   "outputs": [
    {
     "name": "stdout",
     "output_type": "stream",
     "text": [
      "[{'_id': '2021-09-23', 'min': 60.0, 'max': 70.0, 'avg': 63.55, 'count_values': 51, 'median': 64.0, 'first': {'value': 65.0, 'date': '2021-09-23 20:57:05'}, 'last': {'value': 62.0, 'date': '2021-09-24 06:08:43'}}, {'_id': '2021-09-24', 'min': 58.0, 'max': 72.0, 'avg': 63.72, 'count_values': 236, 'median': 64.0, 'first': {'value': 65.0, 'date': '2021-09-24 07:05:18'}, 'last': {'value': 63.0, 'date': '2021-09-25 06:16:49'}}, {'_id': '2021-09-25', 'min': 55.0, 'max': 73.0, 'avg': 64.07, 'count_values': 204, 'median': 64.0, 'first': {'value': 64.0, 'date': '2021-09-25 07:05:36'}, 'last': {'value': 71.0, 'date': '2021-09-26 05:40:14'}}, {'_id': '2021-09-26', 'min': 58.0, 'max': 70.0, 'avg': 63.94, 'count_values': 164, 'median': 64.0, 'first': {'value': 62.0, 'date': '2021-09-26 07:51:41'}, 'last': {'value': 65.0, 'date': '2021-09-27 06:37:20'}}, {'_id': '2021-09-27', 'min': 58.0, 'max': 71.0, 'avg': 64.11, 'count_values': 205, 'median': 64.5, 'first': {'value': 65.0, 'date': '2021-09-27 07:29:41'}, 'last': {'value': 65.0, 'date': '2021-09-28 05:53:27'}}, {'_id': '2021-09-28', 'min': 55.0, 'max': 73.5, 'avg': 63.99, 'count_values': 195, 'median': 64.0, 'first': {'value': 65.0, 'date': '2021-09-28 08:06:32'}, 'last': {'value': 58.0, 'date': '2021-09-29 06:28:57'}}, {'_id': '2021-09-29', 'min': 58.0, 'max': 72.0, 'avg': 64.39, 'count_values': 167, 'median': 65.0, 'first': {'value': 63.0, 'date': '2021-09-29 07:08:50'}, 'last': {'value': 62.0, 'date': '2021-09-30 05:40:53'}}, {'_id': '2021-09-30', 'min': 56.0, 'max': 75.0, 'avg': 64.37, 'count_values': 207, 'median': 65.0, 'first': {'value': 65.0, 'date': '2021-09-30 07:52:11'}, 'last': {'value': 63.0, 'date': '2021-10-01 06:32:34'}}, {'_id': '2021-10-01', 'min': 60.0, 'max': 70.0, 'avg': 64.46, 'count_values': 234, 'median': 65.0, 'first': {'value': 67.0, 'date': '2021-10-01 07:17:20'}, 'last': {'value': 64.0, 'date': '2021-10-02 06:39:41'}}, {'_id': '2021-10-02', 'min': 58.0, 'max': 72.0, 'avg': 64.37, 'count_values': 175, 'median': 65.0, 'first': {'value': 60.0, 'date': '2021-10-02 07:03:24'}, 'last': {'value': 67.0, 'date': '2021-10-03 02:54:47'}}]\n"
     ]
    }
   ],
   "source": [
    "import json\n",
    "\n",
    "# Abriendo documento del costo del usd => cup\n",
    "with open(\"eltoquedata.json\", \"r\") as read_file:\n",
    "    data = json.load(read_file)\n",
    "\n",
    "print(data[:10])"
   ]
  },
  {
   "cell_type": "code",
   "execution_count": 16,
   "metadata": {},
   "outputs": [
    {
     "name": "stdout",
     "output_type": "stream",
     "text": [
      "[{'_id': '2021-01-01', 'min': 45, 'max': 46, 'avg': 45.5, 'count_values': 2, 'median': 46.0, 'first': {'value': 46, 'date': '2021-01-01 14:50:37'}, 'last': {'value': 45, 'date': '2021-01-01 17:14:55'}}, {'_id': '2021-01-02', 'min': 43, 'max': 46.5, 'avg': 45.25, 'count_values': 4, 'median': 46.5, 'first': {'value': 46.5, 'date': '2021-01-02 16:12:31'}, 'last': {'value': 45, 'date': '2021-01-03 06:27:31'}}, {'_id': '2021-01-03', 'min': 43, 'max': 48, 'avg': 45.12, 'count_values': 8, 'median': 45.0, 'first': {'value': 45, 'date': '2021-01-03 08:13:30'}, 'last': {'value': 45, 'date': '2021-01-04 03:23:35'}}, {'_id': '2021-01-04', 'min': 43, 'max': 48, 'avg': 45.0, 'count_values': 8, 'median': 44.0, 'first': {'value': 44, 'date': '2021-01-04 08:41:53'}, 'last': {'value': 48, 'date': '2021-01-04 17:05:34'}}, {'_id': '2021-01-05', 'min': 44.5, 'max': 47, 'avg': 45.55, 'count_values': 10, 'median': 45.0, 'first': {'value': 45, 'date': '2021-01-05 07:49:48'}, 'last': {'value': 45, 'date': '2021-01-06 06:10:53'}}, {'_id': '2021-01-06', 'min': 40, 'max': 50, 'avg': 45.67, 'count_values': 29, 'median': 46.0, 'first': {'value': 45, 'date': '2021-01-06 08:23:11'}, 'last': {'value': 45, 'date': '2021-01-07 06:47:46'}}, {'_id': '2021-01-07', 'min': 35, 'max': 48, 'avg': 45.0, 'count_values': 23, 'median': 45.5, 'first': {'value': 47, 'date': '2021-01-07 09:27:42'}, 'last': {'value': 45, 'date': '2021-01-08 06:41:08'}}, {'_id': '2021-01-08', 'min': 45, 'max': 48, 'avg': 46.17, 'count_values': 6, 'median': 46.0, 'first': {'value': 47, 'date': '2021-01-08 07:53:29'}, 'last': {'value': 48, 'date': '2021-01-09 04:21:45'}}, {'_id': '2021-01-09', 'min': 46, 'max': 48.5, 'avg': 47.0, 'count_values': 10, 'median': 47.0, 'first': {'value': 46, 'date': '2021-01-09 07:17:40'}, 'last': {'value': 46, 'date': '2021-01-10 03:44:55'}}, {'_id': '2021-01-10', 'min': 45, 'max': 50, 'avg': 46.96, 'count_values': 12, 'median': 47.0, 'first': {'value': 45, 'date': '2021-01-10 09:10:31'}, 'last': {'value': 47, 'date': '2021-01-11 04:24:44'}}]\n"
     ]
    }
   ],
   "source": [
    "import json\n",
    "\n",
    "# Abriendo documento del costo del eur => cup\n",
    "with open(\"eltoquedataECU1000.json\", \"r\") as read_file:\n",
    "    data = json.load(read_file)\n",
    "\n",
    "print(data[:10])"
   ]
  },
  {
   "cell_type": "code",
   "execution_count": 17,
   "metadata": {},
   "outputs": [
    {
     "name": "stdout",
     "output_type": "stream",
     "text": [
      "[{'_id': '2021-01-03', 'min': 37.5, 'max': 38.75, 'avg': 38.12, 'count_values': 2, 'median': 38.75, 'first': {'value': 38.75, 'date': '2021-01-03 10:44:43'}, 'last': {'value': 37.5, 'date': '2021-01-03 20:39:51'}}, {'_id': '2021-01-04', 'min': 39, 'max': 40.5, 'avg': 39.83, 'count_values': 12, 'median': 40.0, 'first': {'value': 40, 'date': '2021-01-04 07:22:32'}, 'last': {'value': 40, 'date': '2021-01-05 03:59:25'}}, {'_id': '2021-01-05', 'min': 40, 'max': 40, 'avg': 40.0, 'count_values': 3, 'median': 40.0, 'first': {'value': 40, 'date': '2021-01-05 11:16:33'}, 'last': {'value': 40, 'date': '2021-01-06 05:59:49'}}, {'_id': '2021-01-06', 'min': 40, 'max': 43, 'avg': 41.83, 'count_values': 6, 'median': 43.0, 'first': {'value': 41, 'date': '2021-01-06 07:38:46'}, 'last': {'value': 43, 'date': '2021-01-07 04:59:58'}}, {'_id': '2021-01-07', 'min': 40, 'max': 40, 'avg': 40.0, 'count_values': 5, 'median': 40.0, 'first': {'value': 40, 'date': '2021-01-07 10:56:46'}, 'last': {'value': 40, 'date': '2021-01-07 14:48:44'}}, {'_id': '2021-01-08', 'min': 42, 'max': 42, 'avg': 42.0, 'count_values': 1, 'median': 42.0, 'first': {'value': 42, 'date': '2021-01-08 17:28:38'}, 'last': {'value': 42, 'date': '2021-01-08 17:28:38'}}, {'_id': '2021-01-09', 'min': 40, 'max': 41, 'avg': 40.33, 'count_values': 3, 'median': 40.5, 'first': {'value': 40, 'date': '2021-01-09 09:58:50'}, 'last': {'value': 40, 'date': '2021-01-09 21:03:12'}}, {'_id': '2021-01-10', 'min': 35, 'max': 41, 'avg': 38.67, 'count_values': 3, 'median': 40.5, 'first': {'value': 41, 'date': '2021-01-10 08:25:12'}, 'last': {'value': 35, 'date': '2021-01-10 11:35:41'}}, {'_id': '2021-01-11', 'min': 38.75, 'max': 50, 'avg': 43.25, 'count_values': 13, 'median': 43.0, 'first': {'value': 43, 'date': '2021-01-11 08:16:18'}, 'last': {'value': 43, 'date': '2021-01-11 17:56:20'}}, {'_id': '2021-01-12', 'min': 42, 'max': 43, 'avg': 42.5, 'count_values': 2, 'median': 43.0, 'first': {'value': 43, 'date': '2021-01-12 12:12:46'}, 'last': {'value': 42, 'date': '2021-01-12 18:34:48'}}]\n"
     ]
    }
   ],
   "source": [
    "import json\n",
    "\n",
    "# Abriendo documento del costo del mlc => cup\n",
    "with open(\"eltoquedataMLC1000.json\", \"r\") as read_file:\n",
    "    data = json.load(read_file)\n",
    "\n",
    "print(data[:10])"
   ]
  },
  {
   "cell_type": "code",
   "execution_count": 18,
   "metadata": {},
   "outputs": [],
   "source": [
    "import random\n",
    "\n",
    "# Rango de personas que crearan ofertas diariamente (La cantidad diaria de ofertas varia aleatoriamente entre estos valores)\n",
    "people = [300, 1200]\n",
    "\n",
    "x = [0]\n",
    "y = [0]\n",
    "\n",
    "initial_min = data[0]['min']    # Valor minimo inicial (El valor de la oferta por una persona x se encontrara entre los valores minimos y maximos)\n",
    "initial_max = data[0]['max']    # Valor maximo inicial (El valor de la oferta por una persona x se encontrara entre los valores minimos y maximos)\n",
    "initial_avg = data[0]['avg']    # Valor promedio inicial (El valor de la oferta por una persona x se encontrara entre los valores minimos y maximos)\n",
    "\n",
    "x[0] = data[0]['_id']\n",
    "y[0] = initial_avg\n",
    "\n"
   ]
  },
  {
   "cell_type": "code",
   "execution_count": 19,
   "metadata": {},
   "outputs": [
    {
     "data": {
      "text/plain": [
       "64.76666666666667"
      ]
     },
     "execution_count": 19,
     "metadata": {},
     "output_type": "execute_result"
    }
   ],
   "source": [
    "import statistics\n",
    "\n",
    "def get_median(lst):\n",
    "    return statistics.mean(lst)\n",
    "\n",
    "get_median([65.5, 66, 67.8, 59.5, 68.2, 61.6])"
   ]
  },
  {
   "cell_type": "code",
   "execution_count": 20,
   "metadata": {},
   "outputs": [],
   "source": [
    "for i, item in enumerate(data[1:]):\n",
    "    x_1 = item['_id']\n",
    "    # Via sin ninguna modificacion\n",
    "    min = y[i] - 10 if y[i] - 10 > 1 else y[1]\n",
    "    max = y[i] + 10 if y[i] + 10 > 1 else y[1]\n",
    "    \n",
    "    # Via modificando el valor de y guiandonos por los valores actuales cada 10 dias\n",
    "    # if i % 10 == 0:\n",
    "    #     min = data[i]['avg'] - 10 if data[i]['avg'] - 10 > 1 else y[1]\n",
    "    #     min = data[i]['avg'] + 10 if data[i]['avg'] + 10 > 1 else y[1]\n",
    "\n",
    "    # VIa modificando el valor de y guiandonos por los valores actuales cada 10 dias\n",
    "    # if i % 50 == 0:\n",
    "    #     min = data[i]['avg'] - 10 if data[i]['avg'] - 10 > 1 else y[1]\n",
    "    #     min = data[i]['avg'] + 10 if data[i]['avg'] + 10 > 1 else y[1]\n",
    "\n",
    "    random_value = random.randint(people[0], people[1])\n",
    "\n",
    "    y_values = []\n",
    "    for _ in range(random_value):\n",
    "        y_values.append(random.uniform(min, max))\n",
    "        # print(y_values[:10])\n",
    "\n",
    "    x.append(x_1)\n",
    "    y_mean = get_median(y_values)\n",
    "    y.append(y_mean)\n",
    "\n",
    "    # print(x)\n",
    "    # print(y)"
   ]
  },
  {
   "cell_type": "code",
   "execution_count": 21,
   "metadata": {},
   "outputs": [
    {
     "name": "stdout",
     "output_type": "stream",
     "text": [
      "['2022-09-14', '2022-09-15', '2022-09-16', '2022-09-17', '2022-09-18', '2022-09-19', '2022-09-20', '2022-09-21', '2022-09-22', '2022-09-23']\n",
      "[40.15390983931253, 39.669767858221256, 39.67763337169812, 39.35008025437489, 39.47809899538347, 39.13618647281032, 38.91087032066933, 39.146244383554595, 39.45233805029974, 39.3610828631312]\n"
     ]
    }
   ],
   "source": [
    "print(x[-10:])\n",
    "print(y[-10:])"
   ]
  },
  {
   "cell_type": "code",
   "execution_count": 22,
   "metadata": {},
   "outputs": [],
   "source": [
    "# Graficando\n",
    "import matplotlib.pyplot as plt\n",
    "import numpy as np\n",
    "\n",
    "plt.style.use('seaborn')\n",
    "%matplotlib inline\n",
    "# matplotlib inline"
   ]
  },
  {
   "cell_type": "code",
   "execution_count": 23,
   "metadata": {},
   "outputs": [
    {
     "data": {
      "image/png": "[encoded data removed]",
      "text/plain": [
       "<Figure size 432x288 with 1 Axes>"
      ]
     },
     "metadata": {
      "needs_background": "light"
     },
     "output_type": "display_data"
    }
   ],
   "source": [
    "# fig, ax = plt.subplot()\n",
    "# ax.plot(x, y)\n",
    "# ax.grid(True, linestyle=\"-\")\n",
    "# plt.show()\n",
    "# ax.annotate(\"\", xy=(xmax, 0), xytext=(xmin, 0),\n",
    "#             arrowprops=)\n",
    "\n",
    "# plt.plot(x,y)\n",
    "# plt.xlabel('x')\n",
    "# plt.ylabel('y')\n",
    "# plt.title('Lab DLS')\n",
    "# plt.show()\n",
    "\n",
    "plt.plot(y)\n",
    "plt.show()"
   ]
  }
 ],
 "metadata": {
  "interpreter": {
   "hash": "916dbcbb3f70747c44a77c7bcd40155683ae19c65e1c03b4aa3499c5328201f1"
  },
  "kernelspec": {
   "display_name": "Python 3.7.3 64-bit",
   "language": "python",
   "name": "python3"
  },
  "language_info": {
   "codemirror_mode": {
    "name": "ipython",
    "version": 3
   },
   "file_extension": ".py",
   "mimetype": "text/x-python",
   "name": "python",
   "nbconvert_exporter": "python",
   "pygments_lexer": "ipython3",
   "version": "3.7.3"
  },
  "orig_nbformat": 4
 },
 "nbformat": 4,
 "nbformat_minor": 2
}
